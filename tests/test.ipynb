{
 "cells": [
  {
   "cell_type": "code",
   "execution_count": 1,
   "metadata": {},
   "outputs": [],
   "source": [
    "%load_ext autoreload\n",
    "%autoreload 2\n",
    "%load_ext lab_black"
   ]
  },
  {
   "cell_type": "code",
   "execution_count": 1,
   "metadata": {},
   "outputs": [
    {
     "name": "stderr",
     "output_type": "stream",
     "text": [
      "Using TensorFlow backend.\n"
     ]
    }
   ],
   "source": [
    "import sys\n",
    "\n",
    "sys.path.append(\"../mammo2risk\")\n",
    "from facade import MammoRiskManager\n",
    "import pandas as pd\n",
    "import os\n",
    "\n",
    "os.environ[\"CUDA_VISIBLE_DEVICES\"] = \"0\""
   ]
  },
  {
   "cell_type": "code",
   "execution_count": 2,
   "metadata": {},
   "outputs": [],
   "source": [
    "metadata = pd.read_csv(\"../../../Samsung1+Asan/Metadata/metadata_v1.7.csv\")"
   ]
  },
  {
   "cell_type": "code",
   "execution_count": 3,
   "metadata": {},
   "outputs": [],
   "source": [
    "config = MammoRiskManager.get_config(\"/data1/home/jyahn/mammo2risk/weights/\")\n",
    "mammo_manager = MammoRiskManager(**config)"
   ]
  },
  {
   "cell_type": "code",
   "execution_count": 5,
   "metadata": {},
   "outputs": [
    {
     "name": "stdout",
     "output_type": "stream",
     "text": [
      "Running mammo2risk...\n",
      "Loading Conventional Density Model...\n",
      "1/2 Getting conventional densities from /data1/home/jyahn/MammoData/Asan/Images/13290335_1.dcm ...\n",
      "Manufacturer : GE\n",
      "2/2 Getting conventional densities from /data1/home/jyahn/MammoData/Asan/Images/21087749_1.dcm ...\n",
      "Manufacturer : GE\n",
      "Getting Density Scores...\n",
      "Loading Mammo Risk Model...\n",
      "1/2 Getting deep mammo risk score from /data1/home/jyahn/MammoData/Asan/Images/13290335_1.dcm ...\n",
      "Manufacturer : GE\n",
      "2/2 Getting deep mammo risk score from /data1/home/jyahn/MammoData/Asan/Images/21087749_1.dcm ...\n",
      "Manufacturer : GE\n"
     ]
    },
    {
     "data": {
      "text/html": [
       "<div>\n",
       "<style scoped>\n",
       "    .dataframe tbody tr th:only-of-type {\n",
       "        vertical-align: middle;\n",
       "    }\n",
       "\n",
       "    .dataframe tbody tr th {\n",
       "        vertical-align: top;\n",
       "    }\n",
       "\n",
       "    .dataframe thead th {\n",
       "        text-align: right;\n",
       "    }\n",
       "</style>\n",
       "<table border=\"1\" class=\"dataframe\">\n",
       "  <thead>\n",
       "    <tr style=\"text-align: right;\">\n",
       "      <th></th>\n",
       "      <th>folder</th>\n",
       "      <th>file</th>\n",
       "      <th>view</th>\n",
       "      <th>side</th>\n",
       "      <th>cumulus(cm2)</th>\n",
       "      <th>alto_cumulus(cm2)</th>\n",
       "      <th>cirro_cumulus(cm2)</th>\n",
       "      <th>breast_area(cm2)</th>\n",
       "      <th>denserisk</th>\n",
       "      <th>mammorisk</th>\n",
       "    </tr>\n",
       "  </thead>\n",
       "  <tbody>\n",
       "    <tr>\n",
       "      <th>0</th>\n",
       "      <td>/data1/home/jyahn/MammoData/Asan/Images</td>\n",
       "      <td>13290335_1.dcm</td>\n",
       "      <td>CC</td>\n",
       "      <td>L</td>\n",
       "      <td>0.091882</td>\n",
       "      <td>0.015314</td>\n",
       "      <td>0.000000</td>\n",
       "      <td>154.139062</td>\n",
       "      <td>0.356107</td>\n",
       "      <td>0.000004</td>\n",
       "    </tr>\n",
       "    <tr>\n",
       "      <th>1</th>\n",
       "      <td>/data1/home/jyahn/MammoData/Asan/Images</td>\n",
       "      <td>21087749_1.dcm</td>\n",
       "      <td>CC</td>\n",
       "      <td>L</td>\n",
       "      <td>17.595329</td>\n",
       "      <td>10.329025</td>\n",
       "      <td>2.335324</td>\n",
       "      <td>120.755410</td>\n",
       "      <td>0.501310</td>\n",
       "      <td>0.002279</td>\n",
       "    </tr>\n",
       "  </tbody>\n",
       "</table>\n",
       "</div>"
      ],
      "text/plain": [
       "                                    folder            file view side  \\\n",
       "0  /data1/home/jyahn/MammoData/Asan/Images  13290335_1.dcm   CC    L   \n",
       "1  /data1/home/jyahn/MammoData/Asan/Images  21087749_1.dcm   CC    L   \n",
       "\n",
       "   cumulus(cm2)  alto_cumulus(cm2)  cirro_cumulus(cm2)  breast_area(cm2)  \\\n",
       "0      0.091882           0.015314            0.000000        154.139062   \n",
       "1     17.595329          10.329025            2.335324        120.755410   \n",
       "\n",
       "   denserisk  mammorisk  \n",
       "0   0.356107   0.000004  \n",
       "1   0.501310   0.002279  "
      ]
     },
     "execution_count": 5,
     "metadata": {},
     "output_type": "execute_result"
    }
   ],
   "source": [
    "mammo_manager.mammo2risk(metadata[\"absolute_path\"][0:2])"
   ]
  }
 ],
 "metadata": {
  "kernelspec": {
   "display_name": "tensor",
   "language": "python",
   "name": "tensor"
  },
  "language_info": {
   "codemirror_mode": {
    "name": "ipython",
    "version": 3
   },
   "file_extension": ".py",
   "mimetype": "text/x-python",
   "name": "python",
   "nbconvert_exporter": "python",
   "pygments_lexer": "ipython3",
   "version": "3.6.6"
  }
 },
 "nbformat": 4,
 "nbformat_minor": 2
}
